{
  "nbformat": 4,
  "nbformat_minor": 0,
  "metadata": {
    "colab": {
      "name": "Lab5_Gr4.ipynb",
      "provenance": [],
      "collapsed_sections": []
    },
    "kernelspec": {
      "name": "python3",
      "display_name": "Python 3"
    },
    "language_info": {
      "name": "python"
    }
  },
  "cells": [
    {
      "cell_type": "code",
      "metadata": {
        "id": "Zqf0FnWFLa75"
      },
      "source": [
        "import numpy as np\n",
        "from scipy import ndimage as nd\n",
        "import matplotlib.pyplot as plt"
      ],
      "execution_count": null,
      "outputs": []
    },
    {
      "cell_type": "code",
      "metadata": {
        "colab": {
          "base_uri": "https://localhost:8080/",
          "height": 661
        },
        "id": "gjKYdlw7gGv8",
        "outputId": "54e796f2-187a-4ec6-e49f-f480d3846556"
      },
      "source": [
        "y_size, x_size = 1024, 1024\n",
        "image = np.zeros((y_size, x_size))\n",
        "image[400:700, 200:800] = 1\n",
        "plt.figure(dpi=200)\n",
        "plt.imshow(image, cmap='gray')\n",
        "plt.axis('off')\n",
        "plt.show()"
      ],
      "execution_count": null,
      "outputs": [
        {
          "output_type": "display_data",
          "data": {
            "image/png": "[encoded data removed]",
            "text/plain": [
              "<Figure size 1200x800 with 1 Axes>"
            ]
          },
          "metadata": {
            "tags": [],
            "needs_background": "light"
          }
        }
      ]
    },
    {
      "cell_type": "code",
      "metadata": {
        "id": "CVj6Ouf3gKXr"
      },
      "source": [
        "def generate_rigid_matrix(xt, yt, rot):\n",
        "  rot = np.radians(rot)\n",
        "  rigid_matrix = np.array([[np.cos(rot), -np.sin(rot), xt ],\n",
        "                           [np.sin(rot), np.cos(rot), yt],\n",
        "                           [0, 0, 1]\n",
        "                           ])\n",
        "  return rigid_matrix"
      ],
      "execution_count": null,
      "outputs": []
    },
    {
      "cell_type": "code",
      "metadata": {
        "id": "wtn81OU0gU9h",
        "colab": {
          "base_uri": "https://localhost:8080/"
        },
        "outputId": "12615157-1c07-415f-84f9-998d42e0bb04"
      },
      "source": [
        "rigid_matrix = generate_rigid_matrix(100, 150, 0)\n",
        "print(rigid_matrix)"
      ],
      "execution_count": null,
      "outputs": [
        {
          "output_type": "stream",
          "text": [
            "[[  1.  -0. 100.]\n",
            " [  0.   1. 150.]\n",
            " [  0.   0.   1.]]\n"
          ],
          "name": "stdout"
        }
      ]
    },
    {
      "cell_type": "code",
      "metadata": {
        "id": "RLk4btlpgXNM"
      },
      "source": [
        "def center_matrix(transform, shape):\n",
        "  x_origin = (shape[1] - 1) / 2\n",
        "  y_origin = (shape[0] - 1) / 2\n",
        "  a = np.array([\n",
        "    [1, 0, x_origin],\n",
        "    [0, 1, y_origin],\n",
        "    [0, 0, 1],     \n",
        "  ])\n",
        "  centered_matrix = a @ transform @ np.linalg.inv(a) \n",
        "  return centered_matrix\n",
        "\n",
        "# print(center_matrix(rigid_matrix, (100, 100)))\n",
        "\n",
        "def rigid_dot(grid_x, grid_y, transform):\n",
        "  \"\"\"\n",
        "  x' = transform @ x -> 3x3 @ 3x1\n",
        "  x = [x, y, 1]\n",
        "  \"\"\"\n",
        "  x = [grid_x.flatten(), grid_y.flatten(), np.ones(np.prod(grid_x.shape))]\n",
        "  x = transform @ x\n",
        "  transformed_grid_x = x[0, :].reshape(grid_x.shape)\n",
        "  transformed_grid_y = x[1, :].reshape(grid_y.shape)\n",
        "  return transformed_grid_x, transformed_grid_y\n",
        "\n",
        "def rigid_transform(image, transform):\n",
        "  \"\"\"\n",
        "  1) Dokonac zmiany bazy macierzy transformacji w taki sposob, aby rotacja byla wzgledem srodka obrazu\n",
        "  2) Dokonac transformacji wszystkich koordynatow obrazu wejsciwego korzystajac z macierzy z punktu 1)\n",
        "  3) Dokonac interpolacji (np. liniowej) w nowych punktach obrazu <- map_coordinates z nd\n",
        "  \"\"\"\n",
        "  transform = center_matrix(transform, image.shape)\n",
        "  grid_x, grid_y = np.meshgrid(np.arange(image.shape[1]), np.arange(image.shape[0]))\n",
        "  grid_x_tr, grid_y_tr = rigid_dot(grid_x, grid_y, transform)\n",
        "  transformed_image = nd.map_coordinates(image, [grid_y_tr, grid_x_tr], order=1)\n",
        "  return transformed_image"
      ],
      "execution_count": null,
      "outputs": []
    },
    {
      "cell_type": "code",
      "metadata": {
        "id": "6CedbuLIhc9u",
        "colab": {
          "base_uri": "https://localhost:8080/",
          "height": 479
        },
        "outputId": "90a96390-2b9a-4a79-e894-ed87901101ef"
      },
      "source": [
        "transformed_image = rigid_transform(image, rigid_matrix)\n",
        "\n",
        "plt.figure(dpi=200)\n",
        "plt.subplot(1, 2, 1)\n",
        "plt.imshow(image, cmap='gray')\n",
        "plt.axis('off')\n",
        "plt.subplot(1, 2, 2)\n",
        "plt.imshow(transformed_image, cmap='gray')\n",
        "plt.axis('off')\n",
        "plt.show()"
      ],
      "execution_count": null,
      "outputs": [
        {
          "output_type": "display_data",
          "data": {
            "image/png": "[encoded data removed]",
            "text/plain": [
              "<Figure size 1200x800 with 2 Axes>"
            ]
          },
          "metadata": {
            "tags": [],
            "needs_background": "light"
          }
        }
      ]
    },
    {
      "cell_type": "code",
      "metadata": {
        "id": "glaNNVrehhW6"
      },
      "source": [
        "def interpolate_2d(image, grid_x, grid_y):\n",
        "  img_y, img_x = image.shape[0], image.shape[1]\n",
        "  new_img = np.zeros([img_y, img_x])\n",
        "\n",
        "  grid_x =grid_x.ravel()\n",
        "  grid_y= grid_y.ravel()\n",
        "\n",
        "  for i in grid_y:\n",
        "    for j in grid_x:\n",
        "\n",
        "      y_up, y_down = np.int(np.floor(i)), np.int(np.floor(i)+ 1)\n",
        "      x_left, x_right = np.int(np.floor(j)), np.int(np.floor(j) + 1)\n",
        "\n",
        "      a = image[y_up, x_left]\n",
        "      b = image[y_up, x_right]\n",
        "      c = image[y_down, x_left]\n",
        "      d = image[y_down, x_right]\n",
        "\n",
        "      w_x = j - x_left\n",
        "      w_y = i - y_up\n",
        "\n",
        "      wA = (1 - w_x) * (1 - w_y)\n",
        "      wB =  w_x * (1 - w_y)\n",
        "      wC = w_y * (1 - w_x)\n",
        "      wD = w_x * w_y\n",
        "\n",
        "      interpolated_point = a*wA + b*wB + c*wC + d*wD \n",
        "      new_img[x_left][y_up] = interpolated_point\n",
        "  return new_img"
      ],
      "execution_count": null,
      "outputs": []
    }
  ]
}